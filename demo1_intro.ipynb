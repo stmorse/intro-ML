{
 "cells": [
  {
   "cell_type": "code",
   "execution_count": 1,
   "metadata": {},
   "outputs": [],
   "source": [
    "%matplotlib inline\n",
    "import matplotlib.pyplot as plt\n",
    "import numpy as np\n",
    "import pandas as pd\n",
    "import seaborn as sns\n",
    "\n",
    "from sklearn.preprocessing import PolynomialFeatures\n",
    "from sklearn.model_selection import train_test_split, GridSearchCV\n",
    "from sklearn.pipeline import Pipeline\n",
    "from sklearn.linear_model import LinearRegression, Ridge, Lasso"
   ]
  },
  {
   "cell_type": "markdown",
   "metadata": {},
   "source": [
    "## Load data"
   ]
  },
  {
   "cell_type": "code",
   "execution_count": 2,
   "metadata": {},
   "outputs": [
    {
     "data": {
      "text/html": [
       "<div>\n",
       "<style scoped>\n",
       "    .dataframe tbody tr th:only-of-type {\n",
       "        vertical-align: middle;\n",
       "    }\n",
       "\n",
       "    .dataframe tbody tr th {\n",
       "        vertical-align: top;\n",
       "    }\n",
       "\n",
       "    .dataframe thead th {\n",
       "        text-align: right;\n",
       "    }\n",
       "</style>\n",
       "<table border=\"1\" class=\"dataframe\">\n",
       "  <thead>\n",
       "    <tr style=\"text-align: right;\">\n",
       "      <th></th>\n",
       "      <th>var1</th>\n",
       "      <th>var2</th>\n",
       "    </tr>\n",
       "  </thead>\n",
       "  <tbody>\n",
       "    <tr>\n",
       "      <th>0</th>\n",
       "      <td>0.516399</td>\n",
       "      <td>-0.584753</td>\n",
       "    </tr>\n",
       "    <tr>\n",
       "      <th>1</th>\n",
       "      <td>0.570668</td>\n",
       "      <td>-0.458140</td>\n",
       "    </tr>\n",
       "    <tr>\n",
       "      <th>2</th>\n",
       "      <td>0.028474</td>\n",
       "      <td>-0.116061</td>\n",
       "    </tr>\n",
       "    <tr>\n",
       "      <th>3</th>\n",
       "      <td>0.171522</td>\n",
       "      <td>-0.275226</td>\n",
       "    </tr>\n",
       "    <tr>\n",
       "      <th>4</th>\n",
       "      <td>0.685277</td>\n",
       "      <td>-0.458420</td>\n",
       "    </tr>\n",
       "  </tbody>\n",
       "</table>\n",
       "</div>"
      ],
      "text/plain": [
       "       var1      var2\n",
       "0  0.516399 -0.584753\n",
       "1  0.570668 -0.458140\n",
       "2  0.028474 -0.116061\n",
       "3  0.171522 -0.275226\n",
       "4  0.685277 -0.458420"
      ]
     },
     "execution_count": 2,
     "metadata": {},
     "output_type": "execute_result"
    }
   ],
   "source": [
    "df = pd.read_csv('toyregdata2.csv')\n",
    "df.head()"
   ]
  },
  {
   "cell_type": "markdown",
   "metadata": {},
   "source": [
    "## EDA"
   ]
  },
  {
   "cell_type": "markdown",
   "metadata": {},
   "source": [
    "Pandas has built-in plotting that wraps matplotlib, good for quick looks (not for pretty/custom graphs)"
   ]
  },
  {
   "cell_type": "code",
   "execution_count": 6,
   "metadata": {},
   "outputs": [
    {
     "data": {
      "text/plain": [
       "<matplotlib.axes._subplots.AxesSubplot at 0x112de1f28>"
      ]
     },
     "execution_count": 6,
     "metadata": {},
     "output_type": "execute_result"
    },
    {
     "data": {
      "image/png": "[encoded data removed]",
      "text/plain": [
       "<Figure size 432x288 with 1 Axes>"
      ]
     },
     "metadata": {},
     "output_type": "display_data"
    }
   ],
   "source": [
    "df.plot('var1', 'var2', kind='scatter')"
   ]
  },
  {
   "cell_type": "markdown",
   "metadata": {},
   "source": [
    "Pandas also allows for Tidyverse-style, chained data wrangling, because the data itself is an instance of `DataFrame`.  See https://stmorse.github.io/journal/tidyverse-style-pandas.html for more ideas..."
   ]
  },
  {
   "cell_type": "code",
   "execution_count": 7,
   "metadata": {},
   "outputs": [
    {
     "data": {
      "text/html": [
       "<div>\n",
       "<style scoped>\n",
       "    .dataframe tbody tr th:only-of-type {\n",
       "        vertical-align: middle;\n",
       "    }\n",
       "\n",
       "    .dataframe tbody tr th {\n",
       "        vertical-align: top;\n",
       "    }\n",
       "\n",
       "    .dataframe thead th {\n",
       "        text-align: right;\n",
       "    }\n",
       "</style>\n",
       "<table border=\"1\" class=\"dataframe\">\n",
       "  <thead>\n",
       "    <tr style=\"text-align: right;\">\n",
       "      <th></th>\n",
       "      <th>var1</th>\n",
       "      <th>var2</th>\n",
       "    </tr>\n",
       "    <tr>\n",
       "      <th>cat</th>\n",
       "      <th></th>\n",
       "      <th></th>\n",
       "    </tr>\n",
       "  </thead>\n",
       "  <tbody>\n",
       "    <tr>\n",
       "      <th>low</th>\n",
       "      <td>0.153590</td>\n",
       "      <td>-0.235655</td>\n",
       "    </tr>\n",
       "    <tr>\n",
       "      <th>med</th>\n",
       "      <td>0.518525</td>\n",
       "      <td>-0.492948</td>\n",
       "    </tr>\n",
       "    <tr>\n",
       "      <th>high</th>\n",
       "      <td>0.802920</td>\n",
       "      <td>-0.436761</td>\n",
       "    </tr>\n",
       "  </tbody>\n",
       "</table>\n",
       "</div>"
      ],
      "text/plain": [
       "          var1      var2\n",
       "cat                     \n",
       "low   0.153590 -0.235655\n",
       "med   0.518525 -0.492948\n",
       "high  0.802920 -0.436761"
      ]
     },
     "execution_count": 7,
     "metadata": {},
     "output_type": "execute_result"
    }
   ],
   "source": [
    "(df\n",
    " .assign(cat = pd.cut(df['var1'], bins=3, labels=['low', 'med', 'high']))\n",
    " .groupby('cat')\n",
    " .agg('mean')\n",
    ")"
   ]
  },
  {
   "cell_type": "markdown",
   "metadata": {},
   "source": [
    "Seaborn has a lot of nice plotting capabilities."
   ]
  },
  {
   "cell_type": "code",
   "execution_count": 5,
   "metadata": {},
   "outputs": [
    {
     "data": {
      "text/plain": [
       "<matplotlib.axes._subplots.AxesSubplot at 0x1123a5358>"
      ]
     },
     "execution_count": 5,
     "metadata": {},
     "output_type": "execute_result"
    },
    {
     "data": {
      "image/png": "[encoded data removed]",
      "text/plain": [
       "<Figure size 432x288 with 1 Axes>"
      ]
     },
     "metadata": {},
     "output_type": "display_data"
    }
   ],
   "source": [
    "(df\n",
    " .assign(cat = pd.cut(df['var1'], bins=3, labels=['low', 'med', 'high']))\n",
    " .pipe((sns.boxplot, 'data'), \n",
    "       x='cat', y='var2')\n",
    ")"
   ]
  },
  {
   "cell_type": "markdown",
   "metadata": {},
   "source": [
    "## Sandbox: Feature engineering / Training"
   ]
  },
  {
   "cell_type": "markdown",
   "metadata": {},
   "source": [
    "Pull data from pandas DataFrame into numpy array and split into train/test"
   ]
  },
  {
   "cell_type": "code",
   "execution_count": 10,
   "metadata": {},
   "outputs": [],
   "source": [
    "x = df['var1'].values\n",
    "y = df['var2'].values\n",
    "\n",
    "xr, xt, yr, yt = train_test_split(x, y, test_size=0.35)"
   ]
  },
  {
   "cell_type": "code",
   "execution_count": 20,
   "metadata": {},
   "outputs": [],
   "source": [
    "xrp = PolynomialFeatures(degree=5).fit_transform(xr.reshape(-1,1))\n",
    "mod = Ridge(alpha=0.01).fit(xrp, yr)"
   ]
  },
  {
   "cell_type": "code",
   "execution_count": 21,
   "metadata": {},
   "outputs": [
    {
     "data": {
      "text/plain": [
       "array([ 0.        , -1.81864417,  1.10393242,  1.29292314,  0.21099982,\n",
       "       -1.31094794])"
      ]
     },
     "execution_count": 21,
     "metadata": {},
     "output_type": "execute_result"
    }
   ],
   "source": [
    "mod.coef_"
   ]
  },
  {
   "cell_type": "markdown",
   "metadata": {},
   "source": [
    "The insane code below is not un-typical for a large, custom `matplotlib` plot.  Packages like ggplot, seaborn, pandas all do this kind of code behind-the-scenes, and have limitations that prevent plots like this being even possible.  So if you want to plot anything your heart desires, at some point you need to embrace this style. "
   ]
  },
  {
   "cell_type": "code",
   "execution_count": 17,
   "metadata": {},
   "outputs": [
    {
     "data": {
      "image/png": "[encoded data removed]",
      "text/plain": [
       "<Figure size 1080x576 with 6 Axes>"
      ]
     },
     "metadata": {},
     "output_type": "display_data"
    }
   ],
   "source": [
    "deg = 10  # too many\n",
    "\n",
    "# we happen to know the \"true function\" for this toy dataset ...\n",
    "wtrue = np.array([0, -1.5, 0, 1.1, 1.4, 0, 0, 0, -1.75])\n",
    "def truefun(x): \n",
    "    xpoly = PolynomialFeatures(degree=8).fit_transform(x.reshape((-1,1)))\n",
    "    return np.dot(xpoly, wtrue)\n",
    "\n",
    "# transform the training inputs to polynomial\n",
    "xrp = PolynomialFeatures(degree=deg).fit_transform(xr.reshape((-1,1)))\n",
    "\n",
    "fig, ax = plt.subplots(2,3, figsize=(15,8))\n",
    "\n",
    "# fit, test, and plot model\n",
    "models = [('OLS', LinearRegression()), \n",
    "          ('Ridge', Ridge(alpha=0.01)), \n",
    "          ('LASSO', Lasso(alpha=0.0005))]\n",
    "for i,(name,mod) in enumerate(models):\n",
    "    model = mod.fit(xrp, yr)\n",
    "    \n",
    "    ax[0,i].bar(np.arange(9)+0.1, wtrue, 0.4, color='k', label='True')\n",
    "    ax[0,i].bar(np.arange(deg+1)+0.5, model.coef_, 0.4, color='c', label='Model')\n",
    "    ax[0,i].set_xticks(np.arange(0,deg+1))\n",
    "    ax[0,i].set_xticklabels(np.arange(0,deg+1))\n",
    "    ax[0,i].set_title(name)\n",
    "    \n",
    "    # plot true function curve\n",
    "    xs = np.linspace(0, 1, 100)\n",
    "    ax[1,i].plot(xs, truefun(xs), 'k--', linewidth=0.75, label='True')\n",
    "\n",
    "    # plot our model curve\n",
    "    xsp = PolynomialFeatures(degree=deg).fit_transform(xs.reshape((-1,1)))\n",
    "    ax[1,i].plot(xs, model.predict(xsp), 'b', linewidth=1, label='Model')\n",
    "\n",
    "    # plot data\n",
    "    for xx, yy, m, lab in [(xr, yr, 'o', 'Train'), (xt, yt, 'X', 'Test')]:\n",
    "        ax[1,i].scatter(xx, yy, marker=m, c='c', label=lab,\n",
    "                       s=150, \n",
    "                       linewidth=0.5,  \n",
    "                       edgecolors='k',\n",
    "                       alpha=0.2)\n",
    "    \n",
    "# just show legend on first plot\n",
    "ax[0,0].legend()\n",
    "ax[1,0].legend()\n",
    "plt.show()"
   ]
  },
  {
   "cell_type": "markdown",
   "metadata": {},
   "source": [
    "## Using a `Pipeline`"
   ]
  },
  {
   "cell_type": "code",
   "execution_count": 19,
   "metadata": {},
   "outputs": [],
   "source": [
    "# a Pipeline pipes data through a sequence of sklearn models.\n",
    "pipe = Pipeline([('poly', PolynomialFeatures()),\n",
    "                 ('reg', Ridge())])\n",
    "gs = GridSearchCV(pipe,\n",
    "                  cv=3,\n",
    "                  param_grid={'poly__degree': np.arange(1,10),\n",
    "                              'reg__alpha': np.logspace(-3,0,4)},\n",
    "                  return_train_score=True\n",
    "                 ).fit(xr.reshape((-1,1)), yr)"
   ]
  },
  {
   "cell_type": "code",
   "execution_count": 22,
   "metadata": {},
   "outputs": [
    {
     "data": {
      "text/html": [
       "<div>\n",
       "<style scoped>\n",
       "    .dataframe tbody tr th:only-of-type {\n",
       "        vertical-align: middle;\n",
       "    }\n",
       "\n",
       "    .dataframe tbody tr th {\n",
       "        vertical-align: top;\n",
       "    }\n",
       "\n",
       "    .dataframe thead th {\n",
       "        text-align: right;\n",
       "    }\n",
       "</style>\n",
       "<table border=\"1\" class=\"dataframe\">\n",
       "  <thead>\n",
       "    <tr style=\"text-align: right;\">\n",
       "      <th></th>\n",
       "      <th>mean_fit_time</th>\n",
       "      <th>mean_score_time</th>\n",
       "      <th>mean_test_score</th>\n",
       "      <th>mean_train_score</th>\n",
       "      <th>param_poly__degree</th>\n",
       "      <th>param_reg__alpha</th>\n",
       "      <th>params</th>\n",
       "      <th>rank_test_score</th>\n",
       "      <th>split0_test_score</th>\n",
       "      <th>split0_train_score</th>\n",
       "      <th>split1_test_score</th>\n",
       "      <th>split1_train_score</th>\n",
       "      <th>split2_test_score</th>\n",
       "      <th>split2_train_score</th>\n",
       "      <th>std_fit_time</th>\n",
       "      <th>std_score_time</th>\n",
       "      <th>std_test_score</th>\n",
       "      <th>std_train_score</th>\n",
       "    </tr>\n",
       "  </thead>\n",
       "  <tbody>\n",
       "    <tr>\n",
       "      <th>32</th>\n",
       "      <td>0.000628</td>\n",
       "      <td>0.000342</td>\n",
       "      <td>0.823487</td>\n",
       "      <td>0.899468</td>\n",
       "      <td>9</td>\n",
       "      <td>0.001</td>\n",
       "      <td>{'reg__alpha': 0.001, 'poly__degree': 9}</td>\n",
       "      <td>1</td>\n",
       "      <td>0.927406</td>\n",
       "      <td>0.872634</td>\n",
       "      <td>0.655157</td>\n",
       "      <td>0.927567</td>\n",
       "      <td>0.890966</td>\n",
       "      <td>0.898202</td>\n",
       "      <td>0.000062</td>\n",
       "      <td>8.572024e-06</td>\n",
       "      <td>0.121312</td>\n",
       "      <td>0.022444</td>\n",
       "    </tr>\n",
       "    <tr>\n",
       "      <th>28</th>\n",
       "      <td>0.000573</td>\n",
       "      <td>0.000325</td>\n",
       "      <td>0.813721</td>\n",
       "      <td>0.896715</td>\n",
       "      <td>8</td>\n",
       "      <td>0.001</td>\n",
       "      <td>{'reg__alpha': 0.001, 'poly__degree': 8}</td>\n",
       "      <td>2</td>\n",
       "      <td>0.920930</td>\n",
       "      <td>0.870566</td>\n",
       "      <td>0.633810</td>\n",
       "      <td>0.925778</td>\n",
       "      <td>0.889885</td>\n",
       "      <td>0.893801</td>\n",
       "      <td>0.000007</td>\n",
       "      <td>1.123916e-07</td>\n",
       "      <td>0.129304</td>\n",
       "      <td>0.022634</td>\n",
       "    </tr>\n",
       "    <tr>\n",
       "      <th>33</th>\n",
       "      <td>0.000580</td>\n",
       "      <td>0.000341</td>\n",
       "      <td>0.802566</td>\n",
       "      <td>0.891078</td>\n",
       "      <td>9</td>\n",
       "      <td>0.01</td>\n",
       "      <td>{'reg__alpha': 0.01, 'poly__degree': 9}</td>\n",
       "      <td>3</td>\n",
       "      <td>0.909942</td>\n",
       "      <td>0.865338</td>\n",
       "      <td>0.600870</td>\n",
       "      <td>0.921702</td>\n",
       "      <td>0.901376</td>\n",
       "      <td>0.886193</td>\n",
       "      <td>0.000003</td>\n",
       "      <td>4.724459e-06</td>\n",
       "      <td>0.144311</td>\n",
       "      <td>0.023268</td>\n",
       "    </tr>\n",
       "    <tr>\n",
       "      <th>24</th>\n",
       "      <td>0.000617</td>\n",
       "      <td>0.000324</td>\n",
       "      <td>0.799253</td>\n",
       "      <td>0.893031</td>\n",
       "      <td>7</td>\n",
       "      <td>0.001</td>\n",
       "      <td>{'reg__alpha': 0.001, 'poly__degree': 7}</td>\n",
       "      <td>4</td>\n",
       "      <td>0.911637</td>\n",
       "      <td>0.867505</td>\n",
       "      <td>0.602256</td>\n",
       "      <td>0.923643</td>\n",
       "      <td>0.887896</td>\n",
       "      <td>0.887945</td>\n",
       "      <td>0.000068</td>\n",
       "      <td>1.045242e-05</td>\n",
       "      <td>0.141239</td>\n",
       "      <td>0.023199</td>\n",
       "    </tr>\n",
       "    <tr>\n",
       "      <th>29</th>\n",
       "      <td>0.000610</td>\n",
       "      <td>0.000331</td>\n",
       "      <td>0.784711</td>\n",
       "      <td>0.887117</td>\n",
       "      <td>8</td>\n",
       "      <td>0.01</td>\n",
       "      <td>{'reg__alpha': 0.01, 'poly__degree': 8}</td>\n",
       "      <td>5</td>\n",
       "      <td>0.897343</td>\n",
       "      <td>0.861704</td>\n",
       "      <td>0.559819</td>\n",
       "      <td>0.919666</td>\n",
       "      <td>0.902317</td>\n",
       "      <td>0.879980</td>\n",
       "      <td>0.000054</td>\n",
       "      <td>7.078886e-06</td>\n",
       "      <td>0.160874</td>\n",
       "      <td>0.024195</td>\n",
       "    </tr>\n",
       "  </tbody>\n",
       "</table>\n",
       "</div>"
      ],
      "text/plain": [
       "    mean_fit_time  mean_score_time  mean_test_score  mean_train_score  \\\n",
       "32       0.000628         0.000342         0.823487          0.899468   \n",
       "28       0.000573         0.000325         0.813721          0.896715   \n",
       "33       0.000580         0.000341         0.802566          0.891078   \n",
       "24       0.000617         0.000324         0.799253          0.893031   \n",
       "29       0.000610         0.000331         0.784711          0.887117   \n",
       "\n",
       "   param_poly__degree param_reg__alpha  \\\n",
       "32                  9            0.001   \n",
       "28                  8            0.001   \n",
       "33                  9             0.01   \n",
       "24                  7            0.001   \n",
       "29                  8             0.01   \n",
       "\n",
       "                                      params  rank_test_score  \\\n",
       "32  {'reg__alpha': 0.001, 'poly__degree': 9}                1   \n",
       "28  {'reg__alpha': 0.001, 'poly__degree': 8}                2   \n",
       "33   {'reg__alpha': 0.01, 'poly__degree': 9}                3   \n",
       "24  {'reg__alpha': 0.001, 'poly__degree': 7}                4   \n",
       "29   {'reg__alpha': 0.01, 'poly__degree': 8}                5   \n",
       "\n",
       "    split0_test_score  split0_train_score  split1_test_score  \\\n",
       "32           0.927406            0.872634           0.655157   \n",
       "28           0.920930            0.870566           0.633810   \n",
       "33           0.909942            0.865338           0.600870   \n",
       "24           0.911637            0.867505           0.602256   \n",
       "29           0.897343            0.861704           0.559819   \n",
       "\n",
       "    split1_train_score  split2_test_score  split2_train_score  std_fit_time  \\\n",
       "32            0.927567           0.890966            0.898202      0.000062   \n",
       "28            0.925778           0.889885            0.893801      0.000007   \n",
       "33            0.921702           0.901376            0.886193      0.000003   \n",
       "24            0.923643           0.887896            0.887945      0.000068   \n",
       "29            0.919666           0.902317            0.879980      0.000054   \n",
       "\n",
       "    std_score_time  std_test_score  std_train_score  \n",
       "32    8.572024e-06        0.121312         0.022444  \n",
       "28    1.123916e-07        0.129304         0.022634  \n",
       "33    4.724459e-06        0.144311         0.023268  \n",
       "24    1.045242e-05        0.141239         0.023199  \n",
       "29    7.078886e-06        0.160874         0.024195  "
      ]
     },
     "execution_count": 22,
     "metadata": {},
     "output_type": "execute_result"
    }
   ],
   "source": [
    "res = pd.DataFrame(gs.cv_results_)\n",
    "res.sort_values(by='rank_test_score').head()"
   ]
  },
  {
   "cell_type": "code",
   "execution_count": null,
   "metadata": {},
   "outputs": [],
   "source": []
  }
 ],
 "metadata": {
  "kernelspec": {
   "display_name": "Python 3",
   "language": "python",
   "name": "python3"
  },
  "language_info": {
   "codemirror_mode": {
    "name": "ipython",
    "version": 3
   },
   "file_extension": ".py",
   "mimetype": "text/x-python",
   "name": "python",
   "nbconvert_exporter": "python",
   "pygments_lexer": "ipython3",
   "version": "3.5.2"
  }
 },
 "nbformat": 4,
 "nbformat_minor": 2
}
